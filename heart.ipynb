import numpy as np
import pandas as pd
import matplotlib.pyplot as plt
%matplotlib inline 
dataset = pd.read_csv('dataset.csv')
dataset.head()
dataset.info()
dataset.hist()
plt.bar(dataset["target"].unique(), dataset["target"].value_counts(),color=['red','yellow'])
y = dataset['target']
X = dataset.drop(['target'],axis=1)
y.head()
from sklearn.model_selection import train_test_split
X_train,X_test,y_train, y_test = train_test_split(X,y,test_size=0.2)
from sklearn.neighbors import KNeighborsClassifier

knn = KNeighborsClassifier(n_neighbors=8)
knn.fit(X_train,y_train)
from sklearn.metrics import accuracy_score
knn.score(X_test,y_test)
for k in range(1, 21):
    knn = KNeighborsClassifier(n_neighbors=k)

    knn.fit(X_train, y_train)
    print(k, knn.score(X_test, y_test))
knn = KNeighborsClassifier(n_neighbors=2)
knn.fit(X_train, y_train)
print( knn.score(X_test, y_test))
